{
 "cells": [
  {
   "cell_type": "markdown",
   "metadata": {},
   "source": [
    "# Simple Data Abstraction "
   ]
  },
  {
   "cell_type": "markdown",
   "metadata": {},
   "source": [
    "### Imports"
   ]
  },
  {
   "cell_type": "code",
   "execution_count": 1,
   "metadata": {},
   "outputs": [],
   "source": [
    "import sys\n",
    "sys.path.append(\"../\")"
   ]
  },
  {
   "cell_type": "code",
   "execution_count": 2,
   "metadata": {},
   "outputs": [
    {
     "name": "stdout",
     "output_type": "stream",
     "text": [
      "2020-04-02 01:02:11 - INFO - [sdaab_utils] - [get_config] - get_config() - Environment not defined in os.environ, set DEVELOPMENT as default value.\n",
      "2020-04-02 01:02:11 - INFO - [sdaab_utils] - [get_config] - get_config() - Environment set to development.\n"
     ]
    }
   ],
   "source": [
    "from sdaab.disk.storage_disk import StorageDisk\n",
    "from sdaab.s3boto.storage_s3_boto import StorageS3boto\n",
    "from sdaab.utils.get_config import dict_config"
   ]
  },
  {
   "cell_type": "markdown",
   "metadata": {},
   "source": [
    "### Define some initialization parameters."
   ]
  },
  {
   "cell_type": "code",
   "execution_count": 3,
   "metadata": {},
   "outputs": [],
   "source": [
    "DISK_ROOT_PATH = dict_config[\"DISK\"][\"ROOT_PATH\"]\n",
    "S3_HOST=dict_config[\"S3\"][\"HOST\"]\n",
    "S3_PORT=dict_config[\"S3\"][\"PORT\"]\n",
    "S3_ACCESS_KEY=dict_config[\"S3\"][\"ACCESS_KEY\"]\n",
    "S3_SECRET_KEY=dict_config[\"S3\"][\"SECRET_KEY\"]\n",
    "S3_CALLING_FORMAT=dict_config[\"S3\"][\"CALLING_FORMAT\"]\n",
    "S3_BUCKET=dict_config[\"S3\"][\"BUCKET\"]\n",
    "S3_SECURE=dict_config[\"S3\"][\"SECURE\"]"
   ]
  },
  {
   "cell_type": "markdown",
   "metadata": {},
   "source": [
    "### Inizialize the StorageDisk class"
   ]
  },
  {
   "cell_type": "code",
   "execution_count": 4,
   "metadata": {},
   "outputs": [
    {
     "data": {
      "text/plain": [
       "'DISK'"
      ]
     },
     "execution_count": 4,
     "metadata": {},
     "output_type": "execute_result"
    }
   ],
   "source": [
    "s = StorageDisk(root_path=DISK_ROOT_PATH)\n",
    "s.get_type()"
   ]
  },
  {
   "cell_type": "markdown",
   "metadata": {},
   "source": [
    "### You can use standard terminal command to manage files and folders."
   ]
  },
  {
   "cell_type": "code",
   "execution_count": 5,
   "metadata": {},
   "outputs": [
    {
     "data": {
      "text/plain": [
       "['folder1']"
      ]
     },
     "execution_count": 5,
     "metadata": {},
     "output_type": "execute_result"
    }
   ],
   "source": [
    "s.mkdir(\"folder1\")\n",
    "s.ls()"
   ]
  },
  {
   "cell_type": "code",
   "execution_count": 6,
   "metadata": {},
   "outputs": [
    {
     "data": {
      "text/plain": [
       "['folder2']"
      ]
     },
     "execution_count": 6,
     "metadata": {},
     "output_type": "execute_result"
    }
   ],
   "source": [
    "s.rename(\"folder1\", \"folder2\")\n",
    "s.ls()"
   ]
  },
  {
   "cell_type": "code",
   "execution_count": 7,
   "metadata": {},
   "outputs": [
    {
     "data": {
      "text/plain": [
       "['folder2', 'folder3']"
      ]
     },
     "execution_count": 7,
     "metadata": {},
     "output_type": "execute_result"
    }
   ],
   "source": [
    "s.cp(\"folder2\", \"folder3\")\n",
    "s.ls()"
   ]
  },
  {
   "cell_type": "code",
   "execution_count": 8,
   "metadata": {},
   "outputs": [
    {
     "data": {
      "text/plain": [
       "'/folder2'"
      ]
     },
     "execution_count": 8,
     "metadata": {},
     "output_type": "execute_result"
    }
   ],
   "source": [
    "s.cd(\"folder2\")\n",
    "s.pwd()"
   ]
  },
  {
   "cell_type": "markdown",
   "metadata": {},
   "source": [
    "### Let's upload and download some variables."
   ]
  },
  {
   "cell_type": "code",
   "execution_count": 9,
   "metadata": {},
   "outputs": [
    {
     "data": {
      "text/plain": [
       "['v1']"
      ]
     },
     "execution_count": 9,
     "metadata": {},
     "output_type": "execute_result"
    }
   ],
   "source": [
    "v1 = \"Hello world!\"\n",
    "v2 = \"Bang!\"\n",
    "s.upload_from_memory(v1, \"v1\")\n",
    "s.upload_from_memory(v2, \"/folder3/v2\")\n",
    "s.ls()"
   ]
  },
  {
   "cell_type": "code",
   "execution_count": 10,
   "metadata": {},
   "outputs": [
    {
     "data": {
      "text/plain": [
       "True"
      ]
     },
     "execution_count": 10,
     "metadata": {},
     "output_type": "execute_result"
    }
   ],
   "source": [
    "s.cd(\"../folder3\")\n",
    "v3 = s.download_to_memory(\"v2\")\n",
    "v2 == v3"
   ]
  },
  {
   "cell_type": "markdown",
   "metadata": {},
   "source": [
    "### Let's switch to S3 storage."
   ]
  },
  {
   "cell_type": "code",
   "execution_count": 11,
   "metadata": {},
   "outputs": [
    {
     "data": {
      "text/plain": [
       "'S3boto'"
      ]
     },
     "execution_count": 11,
     "metadata": {},
     "output_type": "execute_result"
    }
   ],
   "source": [
    "s = StorageS3boto(\n",
    "    host=S3_HOST,\n",
    "    port=S3_PORT,\n",
    "    access_key=S3_ACCESS_KEY,\n",
    "    secret_key=S3_SECRET_KEY, \n",
    "    bucket=S3_BUCKET,\n",
    "    calling_format=S3_CALLING_FORMAT,\n",
    "    secure=S3_SECURE,\n",
    "    root_path=\"/root/\"\n",
    ")\n",
    "s.get_type()"
   ]
  },
  {
   "cell_type": "markdown",
   "metadata": {},
   "source": [
    "### You can use exactly the same methods as before. "
   ]
  },
  {
   "cell_type": "code",
   "execution_count": 12,
   "metadata": {},
   "outputs": [
    {
     "data": {
      "text/plain": [
       "['folder1/', 'folder2/', 'folder3/']"
      ]
     },
     "execution_count": 12,
     "metadata": {},
     "output_type": "execute_result"
    }
   ],
   "source": [
    "s.mkdir(\"folder1\")\n",
    "s.mkdir(\"folder2\")\n",
    "s.cp(\"folder1\", \"folder3\")\n",
    "s.ls()"
   ]
  },
  {
   "cell_type": "code",
   "execution_count": 13,
   "metadata": {},
   "outputs": [
    {
     "data": {
      "text/plain": [
       "['v1']"
      ]
     },
     "execution_count": 13,
     "metadata": {},
     "output_type": "execute_result"
    }
   ],
   "source": [
    "s.cd(\"folder2\")\n",
    "v1 = \"Hello world!\"\n",
    "v2 = \"Bang!\"\n",
    "s.upload_from_memory(v1, \"v1\")\n",
    "s.upload_from_memory(v2, \"/folder3/v2\")\n",
    "s.ls()"
   ]
  },
  {
   "cell_type": "code",
   "execution_count": 14,
   "metadata": {},
   "outputs": [
    {
     "data": {
      "text/plain": [
       "True"
      ]
     },
     "execution_count": 14,
     "metadata": {},
     "output_type": "execute_result"
    }
   ],
   "source": [
    "s.cd(\"../folder3\")\n",
    "v3 = s.download_to_memory(\"v2\")\n",
    "v2 == v3"
   ]
  },
  {
   "cell_type": "markdown",
   "metadata": {},
   "source": [
    "### List of implemented methods."
   ]
  },
  {
   "cell_type": "code",
   "execution_count": 15,
   "metadata": {},
   "outputs": [
    {
     "data": {
      "text/plain": [
       "['append',\n",
       " 'cd',\n",
       " 'cp',\n",
       " 'download',\n",
       " 'download_to_memory',\n",
       " 'exists',\n",
       " 'get_type',\n",
       " 'initialized',\n",
       " 'ls',\n",
       " 'mkdir',\n",
       " 'mv',\n",
       " 'pwd',\n",
       " 'rename',\n",
       " 'rm',\n",
       " 'size',\n",
       " 'upload',\n",
       " 'upload_from_memory']"
      ]
     },
     "execution_count": 15,
     "metadata": {},
     "output_type": "execute_result"
    }
   ],
   "source": [
    "[x for x in dir(s) if x[0] != \"_\"]"
   ]
  },
  {
   "cell_type": "code",
   "execution_count": null,
   "metadata": {},
   "outputs": [],
   "source": []
  }
 ],
 "metadata": {
  "kernelspec": {
   "display_name": "Python 3.6.10 64-bit ('sdaab': venv)",
   "language": "python",
   "name": "python361064bitsdaabvenv9c05d7d030704fbcb6be8eba6475fd69"
  },
  "language_info": {
   "codemirror_mode": {
    "name": "ipython",
    "version": 3
   },
   "file_extension": ".py",
   "mimetype": "text/x-python",
   "name": "python",
   "nbconvert_exporter": "python",
   "pygments_lexer": "ipython3",
   "version": "3.6.10"
  }
 },
 "nbformat": 4,
 "nbformat_minor": 4
}
